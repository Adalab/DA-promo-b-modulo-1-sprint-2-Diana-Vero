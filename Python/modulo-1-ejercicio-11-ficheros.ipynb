{
 "cells": [
  {
   "cell_type": "markdown",
   "metadata": {},
   "source": [
    "---------------------------------- PRIMERA FUNCIÓN -----------------------\n",
    "Nos muestre en que carpeta estamos trabajando.\n",
    "Cree una carpeta que se llame \"aprendiendo-ficheros\". ⚠️ Tened en cuenta que si la carpeta ya existe no la podemos crear, nos devolverá un error. Incluye en la función un programa que evite que nos de un error si la carpeta ya existe.\n",
    "Cree otra carpeta que se llame \"datos\" dentro de la carpeta \"aprendiendo-ficheros\". En esta carpeta \"datos\" guardaremos el fichero \"saludo.txt\" que os habéis descargado.\n",
    "Cambiad el directorio de trabajo a la carpeta \"datos\". Antes de seguir chequead que estáis trabajando en la carpeta \"datos\".\n",
    "Cambiad el nombre de la carpeta creada en el punto 2 a \"primera-toma-contacto\"\n",
    "💡 Pistas para resolver este ejercicio 💡\n",
    "La función tendrá que recibir 3 parámetros:\n",
    "El nombre del nombre de la primera carpeta\n",
    "El nombre de la carpeta segunda carpeta\n",
    "El nombre con el que queramos cambiar el nombre de la primera carpeta creada\n",
    "Para saber si las carpetas ya existen tendréis que usar lstdir(recordad que nos devuelve una lista de ficheros y carpetas).\n",
    "Para poder controlar los errores tendremos que usar un if loop, que si el fichero existe, nos devuelva un mensaje de que el fichero ya existe. En caso de que no exista, los deberéis crear y que la función nos muestre un mensaje de que se ha creado.\n",
    "Tendréis que ir cambiando de directorio para poder crear las carpetas y cambiar sus nombres.\n",
    "---------------------------------- SEGUNDA FUNCIÓN -----------------------\n",
    "📌 Antes de empezar, recordad descargaros el fichero saludo.txt y guardarlo en el repo en el que estáis trabajando, dentro de una carpeta que se llame \"datos\".\n",
    "Lea el fichero que se llame \"saludo.txt y muestre su contenido completo.\n",
    "Muestra la línea 4 del fichero\n",
    "💡 Pistas para resolver este ejercicio 💡\n",
    "Antes de empezar, tendréis que saber cuál es vuestro directorio de trabajo.\n",
    "Tened en cuenta en que carpeta estáis. Si vuestro directorio de trabajo no es \"datos\" tendréis que cambiarlo o poner la ruta relativa a la carpeta \"datos\".\n",
    "Usar if... else para evitar que se nos pare el código.\n",
    "Para cambiar el fichero podréis usar el comando input para preguntar el usuario donde está el fichero y que se pueda usar la ruta relativa o absoluta.\n",
    "Lectura y escritura de ficheros\n",
    "La función debe recibir 4 parámetros:\n",
    "Nombre del fichero, incluyendo la extensión.\n",
    "Como queremos leer el fichero.\n",
    "El encoding del fichero.\n",
    "El contenido que queremos escribir en el fichero.\n",
    "Condiciones de la función:\n",
    "Si el fichero no existe, debe crearlo, insertar contenido y mostrar su contenido.\n",
    "Si el fichero existe pregunta al usuario si quiere sobreescribirlo. En caso de Si, sobreescribe el fichero, insertad contenido y leedlo. En caso de No, no hace nada.\n",
    "💡 Pistas 💡\n",
    "Para chequear si un fichero existe, podemos usar la función os.listdir() que devuelve una lista con los nombres de los ficheros que hay en un directorio.\n",
    "Para crear un fichero, podemos usar la función open() que recibe como parámetros el nombre del fichero, el modo de apertura y el encoding.\n",
    "Para chequear si el fichero existe debéis usar los for loops y el método in para comprobar si el nombre del fichero está en la lista de ficheros.\n",
    "Usar un input para preguntar al usuario si quiere sobreescribir el fichero.\n",
    "Para sobreescribir el fichero, podemos usar la función open() que recibe como parámetros el nombre del fichero, el modo de apertura y el encoding.\n",
    "Strings que cubren más que una línea tienen que ser iniciados y cerrados con tres comillas \"\"\"."
   ]
  },
  {
   "cell_type": "code",
   "execution_count": 1,
   "metadata": {},
   "outputs": [],
   "source": [
    "import os"
   ]
  },
  {
   "cell_type": "code",
   "execution_count": 31,
   "metadata": {},
   "outputs": [],
   "source": [
    "os.chdir(\"/Users/feliciano/Documents/Adalab/ejercicios-de-adalab/DA-promo-b-modulo-1-sprint-2-Diana-Vero/Python\")\n"
   ]
  },
  {
   "cell_type": "code",
   "execution_count": 34,
   "metadata": {},
   "outputs": [
    {
     "data": {
      "text/plain": [
       "'/Users/feliciano/Documents/Adalab/ejercicios-de-adalab/DA-promo-b-modulo-1-sprint-2-Diana-Vero/Python'"
      ]
     },
     "execution_count": 34,
     "metadata": {},
     "output_type": "execute_result"
    }
   ],
   "source": [
    "ubi_abs=os.getcwd()\n",
    "ubi_abs"
   ]
  },
  {
   "cell_type": "code",
   "execution_count": 6,
   "metadata": {},
   "outputs": [],
   "source": [
    "os.mkdir(\"aprendiendo-ficheros\")"
   ]
  },
  {
   "cell_type": "code",
   "execution_count": 8,
   "metadata": {},
   "outputs": [
    {
     "data": {
      "text/plain": [
       "['aprendiendo-ficheros',\n",
       " 'modulo-1-ejercicio-11-ficheros.ipynb',\n",
       " 'modulo-1-ejercicio-9-funciones-argumentos.ipynb',\n",
       " 'modulo-1-ejercicio-8-funciones.ipynb',\n",
       " '.ipynb_checkpoints',\n",
       " 'modulo-1-ejercicio-10-clases.ipynb']"
      ]
     },
     "execution_count": 8,
     "metadata": {},
     "output_type": "execute_result"
    }
   ],
   "source": [
    "os.listdir()"
   ]
  },
  {
   "cell_type": "code",
   "execution_count": 11,
   "metadata": {},
   "outputs": [],
   "source": [
    "os.chdir(ubi_abs+\"/\"\"aprendiendo-ficheros\")"
   ]
  },
  {
   "cell_type": "code",
   "execution_count": 12,
   "metadata": {},
   "outputs": [
    {
     "data": {
      "text/plain": [
       "[]"
      ]
     },
     "execution_count": 12,
     "metadata": {},
     "output_type": "execute_result"
    }
   ],
   "source": [
    "os.listdir()"
   ]
  },
  {
   "cell_type": "code",
   "execution_count": 13,
   "metadata": {},
   "outputs": [],
   "source": [
    "os.mkdir(\"datos\")"
   ]
  },
  {
   "cell_type": "code",
   "execution_count": 14,
   "metadata": {},
   "outputs": [
    {
     "data": {
      "text/plain": [
       "['datos']"
      ]
     },
     "execution_count": 14,
     "metadata": {},
     "output_type": "execute_result"
    }
   ],
   "source": [
    "os.listdir()"
   ]
  },
  {
   "cell_type": "code",
   "execution_count": 15,
   "metadata": {},
   "outputs": [],
   "source": [
    "os.chdir(ubi_abs+\"/\"\"aprendiendo-ficheros\"+\"/\"\"datos\") #hacemos esto para entrar a la carpeta \"datos\""
   ]
  },
  {
   "cell_type": "code",
   "execution_count": 35,
   "metadata": {},
   "outputs": [
    {
     "data": {
      "text/plain": [
       "['.DS_Store',\n",
       " 'aprendiendo-ficheros',\n",
       " 'modulo-1-ejercicio-11-ficheros.ipynb',\n",
       " 'modulo-1-ejercicio-9-funciones-argumentos.ipynb',\n",
       " 'modulo-1-ejercicio-8-funciones.ipynb',\n",
       " '.ipynb_checkpoints',\n",
       " 'modulo-1-ejercicio-10-clases.ipynb']"
      ]
     },
     "execution_count": 35,
     "metadata": {},
     "output_type": "execute_result"
    }
   ],
   "source": [
    "os.listdir() #Antes de seguir chequeamos que estamos trabajando en la carpeta \"datos\".\n"
   ]
  },
  {
   "cell_type": "code",
   "execution_count": 36,
   "metadata": {},
   "outputs": [],
   "source": [
    "os.rename(\"aprendiendo-ficheros\", \"primera-toma-contacto\")"
   ]
  },
  {
   "cell_type": "code",
   "execution_count": 55,
   "metadata": {},
   "outputs": [
    {
     "data": {
      "text/plain": [
       "['.DS_Store',\n",
       " 'primera-toma-contacto',\n",
       " 'modulo-1-ejercicio-11-ficheros.ipynb',\n",
       " 'modulo-1-ejercicio-9-funciones-argumentos.ipynb',\n",
       " 'modulo-1-ejercicio-8-funciones.ipynb',\n",
       " '.ipynb_checkpoints',\n",
       " 'modulo-1-ejercicio-10-clases.ipynb']"
      ]
     },
     "execution_count": 55,
     "metadata": {},
     "output_type": "execute_result"
    }
   ],
   "source": [
    "os.listdir()"
   ]
  },
  {
   "cell_type": "code",
   "execution_count": 52,
   "metadata": {},
   "outputs": [],
   "source": [
    "direccion=os.listdir()"
   ]
  },
  {
   "cell_type": "code",
   "execution_count": 56,
   "metadata": {},
   "outputs": [
    {
     "data": {
      "text/plain": [
       "['.DS_Store',\n",
       " 'primera-toma-contacto',\n",
       " 'modulo-1-ejercicio-11-ficheros.ipynb',\n",
       " 'modulo-1-ejercicio-9-funciones-argumentos.ipynb',\n",
       " 'modulo-1-ejercicio-8-funciones.ipynb',\n",
       " '.ipynb_checkpoints',\n",
       " 'modulo-1-ejercicio-10-clases.ipynb']"
      ]
     },
     "execution_count": 56,
     "metadata": {},
     "output_type": "execute_result"
    }
   ],
   "source": [
    "direccion"
   ]
  },
  {
   "cell_type": "code",
   "execution_count": 57,
   "metadata": {},
   "outputs": [
    {
     "data": {
      "text/plain": [
       "True"
      ]
     },
     "execution_count": 57,
     "metadata": {},
     "output_type": "execute_result"
    }
   ],
   "source": [
    "'modulo-1-ejercicio-10-clases.ipynb' in direccion"
   ]
  },
  {
   "cell_type": "code",
   "execution_count": 59,
   "metadata": {},
   "outputs": [],
   "source": [
    "def ficheros(nom_1,nom_2,nom_nuevo):\n",
    "    nom_1 = nom_nuevo\n",
    "\n",
    "    if nom_1 in direccion:\n",
    "        return \"El fichero ya existe\"\n",
    "    elif nom_2 in direccion:\n",
    "        return \"El fichero ya existe\"\n",
    "    else:\n",
    "        os.mkdir(nom_nuevo)\n",
    "        return"
   ]
  },
  {
   "cell_type": "code",
   "execution_count": 60,
   "metadata": {},
   "outputs": [
    {
     "data": {
      "text/plain": [
       "'El fichero ya existe'"
      ]
     },
     "execution_count": 60,
     "metadata": {},
     "output_type": "execute_result"
    }
   ],
   "source": [
    "ficheros(\"primera-toma-contacto\", \"llsjdflaa\",\"primera-toma-contacto\")"
   ]
  },
  {
   "cell_type": "code",
   "execution_count": 49,
   "metadata": {},
   "outputs": [
    {
     "data": {
      "text/plain": [
       "['.DS_Store',\n",
       " 'primera-toma-contacto',\n",
       " 'modulo-1-ejercicio-11-ficheros.ipynb',\n",
       " 'modulo-1-ejercicio-9-funciones-argumentos.ipynb',\n",
       " 'modulo-1-ejercicio-8-funciones.ipynb',\n",
       " '.ipynb_checkpoints',\n",
       " 'modulo-1-ejercicio-10-clases.ipynb']"
      ]
     },
     "execution_count": 49,
     "metadata": {},
     "output_type": "execute_result"
    }
   ],
   "source": [
    "os.listdir()"
   ]
  }
 ],
 "metadata": {
  "kernelspec": {
   "display_name": "Python 3.8.9 64-bit",
   "language": "python",
   "name": "python3"
  },
  "language_info": {
   "codemirror_mode": {
    "name": "ipython",
    "version": 3
   },
   "file_extension": ".py",
   "mimetype": "text/x-python",
   "name": "python",
   "nbconvert_exporter": "python",
   "pygments_lexer": "ipython3",
   "version": "3.8.9"
  },
  "orig_nbformat": 4,
  "vscode": {
   "interpreter": {
    "hash": "31f2aee4e71d21fbe5cf8b01ff0e069b9275f58929596ceb00d14d90e3e16cd6"
   }
  }
 },
 "nbformat": 4,
 "nbformat_minor": 2
}
