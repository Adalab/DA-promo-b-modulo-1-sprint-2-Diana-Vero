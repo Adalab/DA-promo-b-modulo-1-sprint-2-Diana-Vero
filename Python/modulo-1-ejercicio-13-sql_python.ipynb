{
 "cells": [
  {
   "cell_type": "code",
   "execution_count": null,
   "metadata": {},
   "outputs": [],
   "source": [
    "#¿Qué columnas tiene cada una de las tablas? Para esto tendréis que hacer un for loop para que nos saque el resultado de todas las columnas.\n",
    "#Hagamos unas queries facilitas:\n",
    "#Extraed el primer pedido donde se ha gastado más. Devolved el id del pedido y la cantidad gastada.\n",
    "#Devuelve la misma query que en el anterior ejercicio, pero en este caso devuelve todos los resultados.\n",
    "#Extraed el números de pedidos que se hayan hecho por dia. Devuelve los resultados en una dataframe.\n",
    "#Extraer los pedidos hechos por \"Nancy Daviolo\". Tendréis que hacer una subquery.\n",
    "#Para finalizar el ejercicio, desconectad la conexión con el servidor."
   ]
  },
  {
   "cell_type": "code",
   "execution_count": 1,
   "metadata": {},
   "outputs": [
    {
     "name": "stdout",
     "output_type": "stream",
     "text": [
      "<mysql.connector.connection.MySQLConnection object at 0x7fac612215b0>\n"
     ]
    }
   ],
   "source": [
    "import mysql.connector\n",
    "\n",
    "cnx = mysql.connector.connect(user='root', password='AlumnaAdalab',\n",
    "                              host='127.0.0.1',\n",
    "                              database='northwind')\n",
    "\n",
    "print(cnx)\n",
    "cnx.close()"
   ]
  },
  {
   "cell_type": "code",
   "execution_count": 4,
   "metadata": {},
   "outputs": [
    {
     "name": "stdout",
     "output_type": "stream",
     "text": [
      "('bbdd_nba',)\n",
      "('ej_tienda',)\n",
      "('information_schema',)\n",
      "('leccion-1-sql',)\n",
      "('leccion-10-sql',)\n",
      "('leccion-11-sql',)\n",
      "('leccion-12-sql',)\n",
      "('leccion-13-sql',)\n",
      "('leccion-14-sql',)\n",
      "('leccion-2-sql',)\n",
      "('leccion-3-sql',)\n",
      "('leccion-4-sql',)\n",
      "('leccion-5-sql',)\n",
      "('leccion-6-sql',)\n",
      "('leccion-7-sql',)\n",
      "('leccion-8-sql',)\n",
      "('leccion-9-sql',)\n",
      "('mysql',)\n",
      "('northwind',)\n",
      "('performance_schema',)\n",
      "('project1',)\n",
      "('project1_team3',)\n",
      "('sakila',)\n",
      "('spotify',)\n",
      "('sys',)\n",
      "('tienda',)\n",
      "('world',)\n",
      "('Zapateria',)\n"
     ]
    }
   ],
   "source": [
    "#Antes de empezar a trabajar con la BBDD de Northwind, conozcamos un poco las BBDD que tenemos en nuestro servidor. \n",
    "# ¿Qué BBDD tenemos en nuestro servidor?\n",
    "\n",
    "import mysql.connector\n",
    "\n",
    "mydb = mysql.connector.connect(\n",
    "                  user='root', password='AlumnaAdalab',\n",
    "                  host='127.0.0.1',\n",
    "                  database='northwind')\n",
    "\n",
    "mycursor = mydb.cursor()\n",
    "\n",
    "mycursor.execute(\"SHOW DATABASES\")\n",
    "\n",
    "for x in mycursor:\n",
    "  print(x)\n",
    "\n"
   ]
  },
  {
   "cell_type": "code",
   "execution_count": 3,
   "metadata": {},
   "outputs": [
    {
     "name": "stdout",
     "output_type": "stream",
     "text": [
      "('categories',)\n",
      "('customer_customer_demo',)\n",
      "('customer_demographics',)\n",
      "('customers',)\n",
      "('employee_territories',)\n",
      "('employees',)\n",
      "('order_details',)\n",
      "('orders',)\n",
      "('products',)\n",
      "('region',)\n",
      "('shippers',)\n",
      "('suppliers',)\n",
      "('territories',)\n"
     ]
    }
   ],
   "source": [
    "\n",
    "#Empezemos a explorar la BBDD de Northwind. \n",
    "# ¿Qué tablas componen la BBDD? Recuerda que primero nos tendremos que conectar con la BBDD sobre la que queremos trabajar. \n",
    "# Guarda el resultado de los nombres de la tablas en una lista.\n",
    "\n",
    "\n",
    "import mysql.connector\n",
    "\n",
    "mydb = mysql.connector.connect(\n",
    "              user='root', password='AlumnaAdalab',\n",
    "              host='127.0.0.1',\n",
    "              database='northwind'\n",
    ")\n",
    "\n",
    "mycursor = mydb.cursor()\n",
    "\n",
    "mycursor.execute(\"SHOW TABLES\")\n",
    "\n",
    "for x in mycursor:\n",
    "  print(x)"
   ]
  },
  {
   "cell_type": "code",
   "execution_count": 29,
   "metadata": {},
   "outputs": [
    {
     "name": "stdout",
     "output_type": "stream",
     "text": [
      "('categories', 'category_id')\n",
      "('categories', 'category_name')\n",
      "('categories', 'description')\n",
      "('categories', 'picture')\n",
      "('customer_customer_demo', 'customer_id')\n",
      "('customer_customer_demo', 'customertype_id')\n",
      "('customer_demographics', 'customer_desc')\n",
      "('customer_demographics', 'customer_type_id')\n",
      "('customers', 'address')\n",
      "('customers', 'city')\n",
      "('customers', 'company_name')\n",
      "('customers', 'contact_name')\n",
      "('customers', 'contact_title')\n",
      "('customers', 'country')\n",
      "('customers', 'customer_id')\n",
      "('customers', 'fax')\n",
      "('customers', 'phone')\n",
      "('customers', 'postal_code')\n",
      "('customers', 'region')\n",
      "('employee_territories', 'employee_id')\n",
      "('employee_territories', 'territory_id')\n",
      "('employees', 'address')\n",
      "('employees', 'birth_date')\n",
      "('employees', 'city')\n",
      "('employees', 'country')\n",
      "('employees', 'employee_id')\n",
      "('employees', 'extension')\n",
      "('employees', 'first_name')\n",
      "('employees', 'hire_date')\n",
      "('employees', 'home_phone')\n",
      "('employees', 'last_name')\n",
      "('employees', 'notes')\n",
      "('employees', 'photo')\n",
      "('employees', 'photo_path')\n",
      "('employees', 'postal_code')\n",
      "('employees', 'region')\n",
      "('employees', 'reports_to')\n",
      "('employees', 'title')\n",
      "('employees', 'title_of_courtesy')\n",
      "('order_details', 'discount')\n",
      "('order_details', 'order_id')\n",
      "('order_details', 'product_id')\n",
      "('order_details', 'quantity')\n",
      "('order_details', 'unit_price')\n",
      "('orders', 'customer_id')\n",
      "('orders', 'employee_id')\n",
      "('orders', 'freight')\n",
      "('orders', 'order_date')\n",
      "('orders', 'order_id')\n",
      "('orders', 'required_date')\n",
      "('orders', 'ship_address')\n",
      "('orders', 'ship_city')\n",
      "('orders', 'ship_country')\n",
      "('orders', 'ship_name')\n",
      "('orders', 'ship_postal_code')\n",
      "('orders', 'ship_region')\n",
      "('orders', 'ship_via')\n",
      "('orders', 'shipped_date')\n",
      "('products', 'category_id')\n",
      "('products', 'discontinued')\n",
      "('products', 'product_id')\n",
      "('products', 'product_name')\n",
      "('products', 'quantity_per_unit')\n",
      "('products', 'reorder_level')\n",
      "('products', 'supplier_id')\n",
      "('products', 'unit_price')\n",
      "('products', 'units_in_stock')\n",
      "('products', 'units_on_order')\n",
      "('region', 'region_description')\n",
      "('region', 'region_id')\n",
      "('shippers', 'company_name')\n",
      "('shippers', 'phone')\n",
      "('shippers', 'shipper_id')\n",
      "('suppliers', 'adress')\n",
      "('suppliers', 'city')\n",
      "('suppliers', 'company_name')\n",
      "('suppliers', 'contact_name')\n",
      "('suppliers', 'contact_title')\n",
      "('suppliers', 'country')\n",
      "('suppliers', 'fax')\n",
      "('suppliers', 'home_page')\n",
      "('suppliers', 'phone')\n",
      "('suppliers', 'postal_code')\n",
      "('suppliers', 'region')\n",
      "('suppliers', 'supplier_id')\n",
      "('territories', 'region_id')\n",
      "('territories', 'territory_description')\n",
      "('territories', 'territory_id')\n"
     ]
    }
   ],
   "source": [
    "#¿Qué columnas tiene cada una de las tablas? Para esto tendréis que hacer un for loop para que nos saque el resultado de todas las columnas.\n",
    "\n",
    "import mysql.connector\n",
    "\n",
    "mydb = mysql.connector.connect(\n",
    "  host=\"localhost\",\n",
    "  user=\"root\",\n",
    "  password=\"AlumnaAdalab\",\n",
    "  database=\"INFORMATION_SCHEMA\"\n",
    ")\n",
    "\n",
    "mycursor = mydb.cursor()\n",
    "\n",
    "mycursor.execute(\"SELECT TABLE_NAME, COLUMN_NAME FROM COLUMNS WHERE TABLE_SCHEMA = 'northwind' ;\")\n",
    "\n",
    "for x in mycursor:\n",
    "  print(x)"
   ]
  },
  {
   "cell_type": "code",
   "execution_count": null,
   "metadata": {},
   "outputs": [],
   "source": []
  },
  {
   "cell_type": "code",
   "execution_count": null,
   "metadata": {},
   "outputs": [],
   "source": []
  },
  {
   "cell_type": "code",
   "execution_count": null,
   "metadata": {},
   "outputs": [],
   "source": []
  },
  {
   "cell_type": "code",
   "execution_count": 22,
   "metadata": {},
   "outputs": [
    {
     "name": "stdout",
     "output_type": "stream",
     "text": [
      "categories, customer_customer_demo, customer_demographics, customers, employee_territories, employees, order_details, orders, products, region, shippers, suppliers,territories\n"
     ]
    }
   ],
   "source": [
    "#¿Qué columnas tiene cada una de las tablas? Para esto tendréis que hacer un for loop para que nos saque el resultado de todas las columnas.\n",
    "\n",
    "import mysql.connector\n",
    "\n",
    "mydb = mysql.connector.connect(\n",
    "  host=\"localhost\",\n",
    "  user=\"root\",\n",
    "  password=\"AlumnaAdalab\",\n",
    "  database=\"INFORMATION_SCHEMA\"\n",
    ")\n",
    "\n",
    "lista_tablas= ['categories, customer_customer_demo, customer_demographics, customers, employee_territories, employees, order_details, orders, products, region, shippers, suppliers,territories']\n",
    "query= (\"SELECT * FROM COLUMNS WHERE TABLE_NAME =  %s\")\n",
    "\n",
    "mycursor = mydb.cursor()\n",
    "\n",
    "mycursor.execute(query, lista_tablas)\n",
    "\n",
    "\n",
    "for i in lista_tablas:\n",
    "  print(i)\n",
    "  for i in mycursor:\n",
    "    print(mycursor.execute(query, lista_tablas))\n",
    "  \n",
    "\n",
    "\n",
    "\n",
    "SELECT TABLE_NAME, COLUMN_NAME FROM COLUMNS WHERE TABLE_SCHEMA = 'northwind' ;"
   ]
  },
  {
   "cell_type": "code",
   "execution_count": 28,
   "metadata": {},
   "outputs": [
    {
     "ename": "ProgrammingError",
     "evalue": "1109 (42S02): Unknown table 'NORTHWIND' in information_schema",
     "output_type": "error",
     "traceback": [
      "\u001b[0;31m---------------------------------------------------------------------------\u001b[0m",
      "\u001b[0;31mProgrammingError\u001b[0m                          Traceback (most recent call last)",
      "\u001b[0;32m/var/folders/0b/r1tw2m0d04b5wkj6n99ypszr0000gn/T/ipykernel_4477/2014168664.py\u001b[0m in \u001b[0;36m<module>\u001b[0;34m\u001b[0m\n\u001b[1;32m     10\u001b[0m \u001b[0mmycursor\u001b[0m \u001b[0;34m=\u001b[0m \u001b[0mmydb\u001b[0m\u001b[0;34m.\u001b[0m\u001b[0mcursor\u001b[0m\u001b[0;34m(\u001b[0m\u001b[0;34m)\u001b[0m\u001b[0;34m\u001b[0m\u001b[0;34m\u001b[0m\u001b[0m\n\u001b[1;32m     11\u001b[0m \u001b[0;34m\u001b[0m\u001b[0m\n\u001b[0;32m---> 12\u001b[0;31m \u001b[0mmycursor\u001b[0m\u001b[0;34m.\u001b[0m\u001b[0mexecute\u001b[0m\u001b[0;34m(\u001b[0m\u001b[0;34m\"SELECT * FROM northwind\"\u001b[0m\u001b[0;34m)\u001b[0m\u001b[0;34m\u001b[0m\u001b[0;34m\u001b[0m\u001b[0m\n\u001b[0m\u001b[1;32m     13\u001b[0m \u001b[0;34m\u001b[0m\u001b[0m\n\u001b[1;32m     14\u001b[0m \u001b[0;32mfor\u001b[0m \u001b[0mx\u001b[0m \u001b[0;32min\u001b[0m \u001b[0mmycursor\u001b[0m\u001b[0;34m:\u001b[0m\u001b[0;34m\u001b[0m\u001b[0;34m\u001b[0m\u001b[0m\n",
      "\u001b[0;32m~/opt/anaconda3/lib/python3.9/site-packages/mysql/connector/cursor.py\u001b[0m in \u001b[0;36mexecute\u001b[0;34m(self, operation, params, multi)\u001b[0m\n\u001b[1;32m    559\u001b[0m \u001b[0;34m\u001b[0m\u001b[0m\n\u001b[1;32m    560\u001b[0m         \u001b[0;32mtry\u001b[0m\u001b[0;34m:\u001b[0m\u001b[0;34m\u001b[0m\u001b[0;34m\u001b[0m\u001b[0m\n\u001b[0;32m--> 561\u001b[0;31m             \u001b[0mself\u001b[0m\u001b[0;34m.\u001b[0m\u001b[0m_handle_result\u001b[0m\u001b[0;34m(\u001b[0m\u001b[0mself\u001b[0m\u001b[0;34m.\u001b[0m\u001b[0m_connection\u001b[0m\u001b[0;34m.\u001b[0m\u001b[0mcmd_query\u001b[0m\u001b[0;34m(\u001b[0m\u001b[0mstmt\u001b[0m\u001b[0;34m)\u001b[0m\u001b[0;34m)\u001b[0m\u001b[0;34m\u001b[0m\u001b[0;34m\u001b[0m\u001b[0m\n\u001b[0m\u001b[1;32m    562\u001b[0m         \u001b[0;32mexcept\u001b[0m \u001b[0mInterfaceError\u001b[0m \u001b[0;32mas\u001b[0m \u001b[0merr\u001b[0m\u001b[0;34m:\u001b[0m\u001b[0;34m\u001b[0m\u001b[0;34m\u001b[0m\u001b[0m\n\u001b[1;32m    563\u001b[0m             \u001b[0;32mif\u001b[0m \u001b[0mself\u001b[0m\u001b[0;34m.\u001b[0m\u001b[0m_connection\u001b[0m\u001b[0;34m.\u001b[0m\u001b[0mhave_next_result\u001b[0m\u001b[0;34m:\u001b[0m\u001b[0;34m\u001b[0m\u001b[0;34m\u001b[0m\u001b[0m\n",
      "\u001b[0;32m~/opt/anaconda3/lib/python3.9/site-packages/mysql/connector/connection.py\u001b[0m in \u001b[0;36mcmd_query\u001b[0;34m(self, query, raw, buffered, raw_as_string)\u001b[0m\n\u001b[1;32m    988\u001b[0m         \u001b[0mquery\u001b[0m \u001b[0;34m=\u001b[0m \u001b[0mbytes\u001b[0m\u001b[0;34m(\u001b[0m\u001b[0mpacket\u001b[0m\u001b[0;34m)\u001b[0m\u001b[0;34m\u001b[0m\u001b[0;34m\u001b[0m\u001b[0m\n\u001b[1;32m    989\u001b[0m         \u001b[0;32mtry\u001b[0m\u001b[0;34m:\u001b[0m\u001b[0;34m\u001b[0m\u001b[0;34m\u001b[0m\u001b[0m\n\u001b[0;32m--> 990\u001b[0;31m             \u001b[0mresult\u001b[0m \u001b[0;34m=\u001b[0m \u001b[0mself\u001b[0m\u001b[0;34m.\u001b[0m\u001b[0m_handle_result\u001b[0m\u001b[0;34m(\u001b[0m\u001b[0mself\u001b[0m\u001b[0;34m.\u001b[0m\u001b[0m_send_cmd\u001b[0m\u001b[0;34m(\u001b[0m\u001b[0mServerCmd\u001b[0m\u001b[0;34m.\u001b[0m\u001b[0mQUERY\u001b[0m\u001b[0;34m,\u001b[0m \u001b[0mquery\u001b[0m\u001b[0;34m)\u001b[0m\u001b[0;34m)\u001b[0m\u001b[0;34m\u001b[0m\u001b[0;34m\u001b[0m\u001b[0m\n\u001b[0m\u001b[1;32m    991\u001b[0m         \u001b[0;32mexcept\u001b[0m \u001b[0mProgrammingError\u001b[0m \u001b[0;32mas\u001b[0m \u001b[0merr\u001b[0m\u001b[0;34m:\u001b[0m\u001b[0;34m\u001b[0m\u001b[0;34m\u001b[0m\u001b[0m\n\u001b[1;32m    992\u001b[0m             \u001b[0;32mif\u001b[0m \u001b[0merr\u001b[0m\u001b[0;34m.\u001b[0m\u001b[0merrno\u001b[0m \u001b[0;34m==\u001b[0m \u001b[0;36m3948\u001b[0m \u001b[0;32mand\u001b[0m \u001b[0;34m\"Loading local data is disabled\"\u001b[0m \u001b[0;32min\u001b[0m \u001b[0merr\u001b[0m\u001b[0;34m.\u001b[0m\u001b[0mmsg\u001b[0m\u001b[0;34m:\u001b[0m\u001b[0;34m\u001b[0m\u001b[0;34m\u001b[0m\u001b[0m\n",
      "\u001b[0;32m~/opt/anaconda3/lib/python3.9/site-packages/mysql/connector/connection.py\u001b[0m in \u001b[0;36m_handle_result\u001b[0;34m(self, packet)\u001b[0m\n\u001b[1;32m    782\u001b[0m             \u001b[0;32mreturn\u001b[0m \u001b[0mself\u001b[0m\u001b[0;34m.\u001b[0m\u001b[0m_handle_eof\u001b[0m\u001b[0;34m(\u001b[0m\u001b[0mpacket\u001b[0m\u001b[0;34m)\u001b[0m\u001b[0;34m\u001b[0m\u001b[0;34m\u001b[0m\u001b[0m\n\u001b[1;32m    783\u001b[0m         \u001b[0;32mif\u001b[0m \u001b[0mpacket\u001b[0m\u001b[0;34m[\u001b[0m\u001b[0;36m4\u001b[0m\u001b[0;34m]\u001b[0m \u001b[0;34m==\u001b[0m \u001b[0;36m255\u001b[0m\u001b[0;34m:\u001b[0m\u001b[0;34m\u001b[0m\u001b[0;34m\u001b[0m\u001b[0m\n\u001b[0;32m--> 784\u001b[0;31m             \u001b[0;32mraise\u001b[0m \u001b[0mget_exception\u001b[0m\u001b[0;34m(\u001b[0m\u001b[0mpacket\u001b[0m\u001b[0;34m)\u001b[0m\u001b[0;34m\u001b[0m\u001b[0;34m\u001b[0m\u001b[0m\n\u001b[0m\u001b[1;32m    785\u001b[0m \u001b[0;34m\u001b[0m\u001b[0m\n\u001b[1;32m    786\u001b[0m         \u001b[0;31m# We have a text result set\u001b[0m\u001b[0;34m\u001b[0m\u001b[0;34m\u001b[0m\u001b[0m\n",
      "\u001b[0;31mProgrammingError\u001b[0m: 1109 (42S02): Unknown table 'NORTHWIND' in information_schema"
     ]
    }
   ],
   "source": [
    "\n",
    "import mysql.connector\n",
    "\n",
    "mydb = mysql.connector.connect(\n",
    "  host=\"localhost\",\n",
    "  user=\"root\",\n",
    "  password=\"AlumnaAdalab\",\n",
    "  database=\"INFORMATION_SCHEMA\"\n",
    ")\n",
    "\n",
    "mycursor = mydb.cursor()\n",
    "\n",
    "mycursor.execute(\"SELECT * FROM northwind\")\n",
    "\n",
    "for x in mycursor:\n",
    "  print(x)"
   ]
  },
  {
   "cell_type": "code",
   "execution_count": null,
   "metadata": {},
   "outputs": [],
   "source": [
    "import datetime\n",
    "\n",
    "cnx = mysql.connector.connect(user='root', password='AlumnaAdalab',\n",
    "                              host='127.0.0.1',\n",
    "                              database='tienda')\n",
    "cursor = cnx.cursor()\n",
    "\n",
    "query = (\"SELECT customer_number, status, order_date, order_number FROM orders \"\n",
    "         \"WHERE order_date BETWEEN %s AND %s\")\n",
    "\n",
    "hire_start = datetime.date(2003, 1, 1)\n",
    "hire_end = datetime.date(2003, 3, 31)\n",
    "cursor.execute(query, (hire_start, hire_end))\n",
    "\n",
    "for customer_number, status, order_date, order_number in cursor:\n",
    "  print(f\"El numero de orden {order_number}, esta en estado {status} con fecha {order_date}\")\n",
    "\n",
    "cursor.close()\n",
    "cnx.close()"
   ]
  }
 ],
 "metadata": {
  "kernelspec": {
   "display_name": "Python 3.9.7 ('base')",
   "language": "python",
   "name": "python3"
  },
  "language_info": {
   "codemirror_mode": {
    "name": "ipython",
    "version": 3
   },
   "file_extension": ".py",
   "mimetype": "text/x-python",
   "name": "python",
   "nbconvert_exporter": "python",
   "pygments_lexer": "ipython3",
   "version": "3.9.7"
  },
  "orig_nbformat": 4,
  "vscode": {
   "interpreter": {
    "hash": "bab9de067d915f107d1ee2ee6fc66eaa4419a4d622bcbfdabd1c6ae75445c121"
   }
  }
 },
 "nbformat": 4,
 "nbformat_minor": 2
}
