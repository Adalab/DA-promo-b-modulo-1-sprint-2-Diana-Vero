{
 "cells": [
  {
   "cell_type": "code",
   "execution_count": null,
   "metadata": {},
   "outputs": [],
   "source": [
    "#Vamos a crear una \"Calculadora de puntos\". Tenéis que escribir una calculadora que reciba cadenas de caracteres como entrada.\n",
    "# Los puntos representarán el número de la ecuación. \n",
    "# Habrá puntos en un lado, un operador, y puntos de nuevo después del oparador. \n",
    "# Los puntos y el operador estarán separados por un espacio.\n",
    "#Aquí os dejamos los operadores válidos:\n",
    "#Suma\n",
    "#Resta\n",
    "#Multiplicación\n",
    "#División entera\n",
    "#Vuestro trabajo\n",
    "#Tendréis que devolver un string que contenga puntos, tantos como devuelva la ecuación.\n",
    "# Si el resultado es 0, devuelve la cadena vacía. Cuando se trata de una resta, \n",
    "# el primer número siempre será mayor o igual que el segundo."
   ]
  },
  {
   "cell_type": "code",
   "execution_count": null,
   "metadata": {},
   "outputs": [],
   "source": [
    "#Probad la función con los siguientes casos: \n",
    "\n",
    "\"..... + ...............\" => \"....................\"\n",
    "\"..... - ...\" => \"..\"\n",
    "\"..... * ...\" => \"...............\"\n",
    "\"..... // ..\" => \"..\"\n",
    "\". // ..\" => \"\"\n",
    "\".. - ..\" => \"\""
   ]
  },
  {
   "cell_type": "code",
   "execution_count": null,
   "metadata": {},
   "outputs": [],
   "source": []
  },
  {
   "cell_type": "code",
   "execution_count": null,
   "metadata": {},
   "outputs": [],
   "source": [
    "#2\n",
    "# Te despides de tu mejor amigo, \"Nos vemos el próximo año\". \n",
    "# Vuestro trabajo: Dado un año, encuentra el próximo cumpleaños o el año más cercano en el que verás a tu mejor amigo.\n",
    "#Condiciones\n",
    "#Año siempre positivo.\n",
    "#El siguiente año que le felicites a tu mejor amigo no puede tener ningún dígito repetido."
   ]
  },
  {
   "cell_type": "code",
   "execution_count": null,
   "metadata": {},
   "outputs": [],
   "source": [
    "#Probad la función con los siguientes casos:\n",
    "\n",
    "7712 ==> El siguiente año que felicitarás a tu amigo será el 7801. \n",
    "Por que es el siguiente año en el que no hay ninguún dígito repetido. \n",
    "\n",
    "\n",
    "1001 => 1023 \n",
    "\n",
    "1123 => 1203\n",
    "\n",
    "2001 => 2013"
   ]
  },
  {
   "cell_type": "code",
   "execution_count": 32,
   "metadata": {},
   "outputs": [],
   "source": [
    "\n",
    "\n",
    "\n",
    "def felicitar(año):\n",
    "        if año> años:\n",
    "            print(año)\n",
    "            año +=1\n",
    "            set.año(4)\n",
    "            \n",
    "            \n",
    "        \n",
    "        \n",
    "        \n",
    "        \n",
    "        \n",
    "        "
   ]
  },
  {
   "cell_type": "code",
   "execution_count": 35,
   "metadata": {},
   "outputs": [
    {
     "name": "stdout",
     "output_type": "stream",
     "text": [
      "None\n"
     ]
    }
   ],
   "source": [
    "print(felicitar(1))"
   ]
  },
  {
   "cell_type": "code",
   "execution_count": null,
   "metadata": {},
   "outputs": [],
   "source": [
    "#3 \n",
    "# Tenéis que crear un función que chequee la vida de un evaporador que contiene un gas.\n",
    "#Conocemos el contenido del evaporador (contenido en ml), el porcentaje de gas que se pierde \n",
    "# cada día y el umbral en porcentaje a partir del cual el evaporador deja de ser útil. \n",
    "# Todos los números serán estrictamente positivos.\n",
    "#⚠️ Nota: el contenido no es, de hecho, necesario en el cuerpo de la función, podéis utilizarlo o no."
   ]
  },
  {
   "cell_type": "code",
   "execution_count": null,
   "metadata": {},
   "outputs": [],
   "source": [
    "#Probad con los siguientes casos: \n",
    "\n",
    "10, 10, 5 => 29\n",
    "\n",
    "10, 10, 10 = > 22"
   ]
  },
  {
   "cell_type": "code",
   "execution_count": null,
   "metadata": {},
   "outputs": [],
   "source": []
  },
  {
   "cell_type": "code",
   "execution_count": null,
   "metadata": {},
   "outputs": [],
   "source": [
    "#4 Definid una función que tome como argumento un entero y devuelva True o False \n",
    "# dependiendo de si el número es primo o no.\n",
    "#Según la Wikipedia, un número primo es un número natural mayor que 1 que no tiene \n",
    "#divisores positivos más que 1 y él mismo.\n"
   ]
  },
  {
   "cell_type": "code",
   "execution_count": null,
   "metadata": {},
   "outputs": [],
   "source": [
    "#Probad la función con los siguientes números: \n",
    "\n",
    "0 => False\n",
    "2 => True\n",
    "73 => True\n",
    "-1 => False\n",
    "5099 => True"
   ]
  },
  {
   "cell_type": "code",
   "execution_count": null,
   "metadata": {},
   "outputs": [],
   "source": []
  },
  {
   "cell_type": "code",
   "execution_count": null,
   "metadata": {},
   "outputs": [],
   "source": []
  },
  {
   "cell_type": "code",
   "execution_count": null,
   "metadata": {},
   "outputs": [],
   "source": [
    "#5\n",
    "# Probablemente conozcais el sistema de \"me gusta\" de Facebook y otras páginas.\n",
    "# La gente puede dar \"me gusta\" a las publicaciones del blog, a las imágenes o a otros elementos. \n",
    "# Queremos crear el texto que debe mostrarse junto a dicho elemento.\n",
    "#Cread una función que toma una lista que contiene los nombres de las personas a las que les gusta un artículo.\n",
    "# Debe devolver el texto que se muestra en los ejemplos:\n"
   ]
  },
  {
   "cell_type": "code",
   "execution_count": null,
   "metadata": {},
   "outputs": [],
   "source": [
    "#Probad los siguientes ejemplos: \n",
    "\n",
    "[]                              -->  \"A nadie le gusta esto\"\n",
    "[\"Paola\"]                       -->  \"A Peter le gusta esto\"\n",
    "[\"Jacoba\", \"Alex\"]               -->  \"A Jacob y Alex les gusta esto\"\n",
    "[\"Maria\", \"Juana\", \"Lola\"]         -->  \"A Max, John y Mark les gusta esto\"\n",
    "[\"Alex\", \"Jacoba\", \"Lola\", \"Carmen\"]-->  \"A Alex, Jacob y 2 más les gusta esto\"\n",
    "[\"Alex\", \"Jacoba\", \"Lola\", \"Carmen\", \"Mariana\"]-->  \"A Alex, Jacoba y 3 más les gusta esto\""
   ]
  },
  {
   "cell_type": "code",
   "execution_count": 12,
   "metadata": {},
   "outputs": [],
   "source": [
    "def likes(lista_nombres):\n",
    "    if len(lista_nombres)==0:\n",
    "        response=\"A nadie le gusta esto\"\n",
    "    elif len(lista_nombres)== 1:\n",
    "        response= f\"A {lista_nombres[0]} le gusta esto\"\n",
    "    elif len(lista_nombres)==2:\n",
    "        response= f\"A {lista_nombres[0]} y {lista_nombres[1]} les gusta esto\"\n",
    "    elif len(lista_nombres)== 3:\n",
    "        response= f\"A {lista_nombres[0]}, {lista_nombres[1]} y {lista_nombres[2]} les gusta esto\"\n",
    "    elif len(lista_nombres)>3:\n",
    "        response= f\"A {lista_nombres[0]}, {lista_nombres[1]} y \"+str(len(lista_nombres)-2) + \" más les gusta esto\"  \n",
    "    return response\n",
    "\n",
    "\n",
    "\n",
    "    \n",
    "\n",
    "\n",
    "\n",
    "\n",
    "    "
   ]
  },
  {
   "cell_type": "code",
   "execution_count": 13,
   "metadata": {},
   "outputs": [
    {
     "data": {
      "text/plain": [
       "'A Alex, Jacoba y 3 más les gusta esto'"
      ]
     },
     "execution_count": 13,
     "metadata": {},
     "output_type": "execute_result"
    }
   ],
   "source": [
    "likes([\"Alex\", \"Jacoba\", \"Lola\", \"Carmen\", \"Mariana\"])"
   ]
  }
 ],
 "metadata": {
  "kernelspec": {
   "display_name": "Python 3.8.9 64-bit",
   "language": "python",
   "name": "python3"
  },
  "language_info": {
   "codemirror_mode": {
    "name": "ipython",
    "version": 3
   },
   "file_extension": ".py",
   "mimetype": "text/x-python",
   "name": "python",
   "nbconvert_exporter": "python",
   "pygments_lexer": "ipython3",
   "version": "3.8.9"
  },
  "orig_nbformat": 4,
  "vscode": {
   "interpreter": {
    "hash": "31f2aee4e71d21fbe5cf8b01ff0e069b9275f58929596ceb00d14d90e3e16cd6"
   }
  }
 },
 "nbformat": 4,
 "nbformat_minor": 2
}
