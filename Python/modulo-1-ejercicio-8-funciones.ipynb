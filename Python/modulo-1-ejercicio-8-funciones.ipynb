{
 "cells": [
  {
   "cell_type": "code",
   "execution_count": 1,
   "metadata": {},
   "outputs": [],
   "source": [
    "#1. Cread una función que reciba 2 números enteros en forma de string como entrada, y dé como resultado la suma (también en forma de string)\n",
    "#Condiciones:\n",
    "#Si los dos parámetros que recibe la función son strings vacíos la función nos debe devolver \"0\"\n",
    "#Si el primer parámetro es un string vacío, la función nos devuelve el valor del segundo parámetro y viceversa.\n",
    "#Probad la función para las siguientes combinaciones de \"números\"\n",
    "\n",
    "#\"4\",  \"5\" --> \"9\"\n",
    "#\"34\", \"5\" --> \"39\"\n",
    "#\"\", \"\" --> \"0\"\n",
    "#\"2\", \"\" --> \"2\"\n",
    "#\"-5\", \"3\" --> \"-2\""
   ]
  },
  {
   "cell_type": "code",
   "execution_count": 42,
   "metadata": {},
   "outputs": [],
   "source": [
    "def sumar(a,b):\n",
    "   \n",
    "    suma=int(a)+int(b)\n",
    "    suma= str(suma)\n",
    "    if a== (\"\") and b == (\"\"):\n",
    "        a = 0\n",
    "        b = 0\n",
    "        suma=int(a)+int(b)\n",
    "        suma= str(suma)\n",
    "    elif a == (\"\"): \n",
    "        a = 0\n",
    "        suma=int(a)+int(b)\n",
    "        suma= str(suma)\n",
    "    elif b == (\"\"):\n",
    "        b = 0\n",
    "        suma=int(a)+int(b)\n",
    "        suma= str(suma)\n",
    "\n",
    "    return str(suma)"
   ]
  },
  {
   "cell_type": "code",
   "execution_count": 45,
   "metadata": {},
   "outputs": [
    {
     "data": {
      "text/plain": [
       "'-2'"
      ]
     },
     "execution_count": 45,
     "metadata": {},
     "output_type": "execute_result"
    }
   ],
   "source": [
    "sumar(\"-5\",\"3\")"
   ]
  },
  {
   "cell_type": "code",
   "execution_count": null,
   "metadata": {},
   "outputs": [],
   "source": [
    "#El objetivo es comparar cada par de enteros de 2 listas, y devolver una nueva lista con el número mayor de la comapración..\n",
    "#Probad la función para las siguientes listas: \n",
    "\n",
    "#arr1 = [13, 64, 15, 17, 88]\n",
    "#arr2 = [23, 14, 53, 17, 80]\n",
    "#resultado = [23, 64, 53, 17, 88]\n",
    "#💡 Pista 💡 En Python existe el método zip."
   ]
  },
  {
   "cell_type": "code",
   "execution_count": 47,
   "metadata": {},
   "outputs": [],
   "source": [
    "lista1 = [13, 64, 15, 17, 88]\n",
    "lista2 = [23, 14, 53, 17, 80]"
   ]
  },
  {
   "cell_type": "code",
   "execution_count": 51,
   "metadata": {},
   "outputs": [],
   "source": [
    "lista_tuplas=list(zip(lista1,lista2))"
   ]
  },
  {
   "cell_type": "code",
   "execution_count": 65,
   "metadata": {},
   "outputs": [],
   "source": [
    "\n",
    "def numero_mayor():\n",
    "\n",
    "    lista_numero_mayor=[]\n",
    "\n",
    "    for i in lista_tuplas:\n",
    "        if i[0] > i[1]:\n",
    "            lista_numero_mayor.append(i[0])\n",
    "        elif i[0] < i[1]:\n",
    "            lista_numero_mayor.append(i[1])\n",
    "    return lista_numero_mayor\n",
    "\n"
   ]
  },
  {
   "cell_type": "code",
   "execution_count": 68,
   "metadata": {},
   "outputs": [
    {
     "data": {
      "text/plain": [
       "[23, 64, 53, 88]"
      ]
     },
     "execution_count": 68,
     "metadata": {},
     "output_type": "execute_result"
    }
   ],
   "source": [
    "numero_mayor()"
   ]
  }
 ],
 "metadata": {
  "kernelspec": {
   "display_name": "Python 3.9.7 ('base')",
   "language": "python",
   "name": "python3"
  },
  "language_info": {
   "codemirror_mode": {
    "name": "ipython",
    "version": 3
   },
   "file_extension": ".py",
   "mimetype": "text/x-python",
   "name": "python",
   "nbconvert_exporter": "python",
   "pygments_lexer": "ipython3",
   "version": "3.9.7"
  },
  "orig_nbformat": 4,
  "vscode": {
   "interpreter": {
    "hash": "7ad202eda4b463b15866ae6aadf94c3d2752d74520fedda13d68ef6e8aba5314"
   }
  }
 },
 "nbformat": 4,
 "nbformat_minor": 2
}
