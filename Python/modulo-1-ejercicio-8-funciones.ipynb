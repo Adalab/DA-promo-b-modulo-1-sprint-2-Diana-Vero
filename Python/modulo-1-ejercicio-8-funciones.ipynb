{
 "cells": [
  {
   "cell_type": "code",
   "execution_count": 1,
   "metadata": {},
   "outputs": [],
   "source": [
    "#1. Cread una función que reciba 2 números enteros en forma de string como entrada, y dé como resultado la suma (también en forma de string)\n",
    "#Condiciones:\n",
    "#Si los dos parámetros que recibe la función son strings vacíos la función nos debe devolver \"0\"\n",
    "#Si el primer parámetro es un string vacío, la función nos devuelve el valor del segundo parámetro y viceversa.\n",
    "#Probad la función para las siguientes combinaciones de \"números\"\n",
    "\n",
    "#\"4\",  \"5\" --> \"9\"\n",
    "#\"34\", \"5\" --> \"39\"\n",
    "#\"\", \"\" --> \"0\"\n",
    "#\"2\", \"\" --> \"2\"\n",
    "#\"-5\", \"3\" --> \"-2\""
   ]
  },
  {
   "cell_type": "code",
   "execution_count": 42,
   "metadata": {},
   "outputs": [],
   "source": [
    "def sumar(a,b):\n",
    "   \n",
    "    suma=int(a)+int(b)\n",
    "    suma= str(suma)\n",
    "    if a== (\"\") and b == (\"\"):\n",
    "        a = 0\n",
    "        b = 0\n",
    "        suma=int(a)+int(b)\n",
    "        suma= str(suma)\n",
    "    elif a == (\"\"): \n",
    "        a = 0\n",
    "        suma=int(a)+int(b)\n",
    "        suma= str(suma)\n",
    "    elif b == (\"\"):\n",
    "        b = 0\n",
    "        suma=int(a)+int(b)\n",
    "        suma= str(suma)\n",
    "\n",
    "    return str(suma)"
   ]
  },
  {
   "cell_type": "code",
   "execution_count": 45,
   "metadata": {},
   "outputs": [
    {
     "data": {
      "text/plain": [
       "'-2'"
      ]
     },
     "execution_count": 45,
     "metadata": {},
     "output_type": "execute_result"
    }
   ],
   "source": [
    "sumar(\"-5\",\"3\")"
   ]
  },
  {
   "cell_type": "code",
   "execution_count": null,
   "metadata": {},
   "outputs": [],
   "source": [
    "#El objetivo es comparar cada par de enteros de 2 listas, y devolver una nueva lista con el número mayor de la comapración..\n",
    "#Probad la función para las siguientes listas: \n",
    "\n",
    "#arr1 = [13, 64, 15, 17, 88]\n",
    "#arr2 = [23, 14, 53, 17, 80]\n",
    "#resultado = [23, 64, 53, 17, 88]\n",
    "#💡 Pista 💡 En Python existe el método zip."
   ]
  },
  {
   "cell_type": "code",
   "execution_count": 4,
   "metadata": {},
   "outputs": [],
   "source": [
    "lista1 = [13, 64, 15, 17, 88]\n",
    "lista2 = [23, 14, 53, 17, 80]"
   ]
  },
  {
   "cell_type": "code",
   "execution_count": 5,
   "metadata": {},
   "outputs": [],
   "source": [
    "lista_tuplas=list(zip(lista1,lista2))"
   ]
  },
  {
   "cell_type": "code",
   "execution_count": 6,
   "metadata": {},
   "outputs": [],
   "source": [
    "\n",
    "def numero_mayor():\n",
    "\n",
    "    lista_numero_mayor=[]\n",
    "\n",
    "    for i in lista_tuplas:\n",
    "        if i[0] > i[1]:\n",
    "            lista_numero_mayor.append(i[0])\n",
    "        elif i[0] < i[1]:\n",
    "            lista_numero_mayor.append(i[1])\n",
    "    return lista_numero_mayor\n",
    "\n"
   ]
  },
  {
   "cell_type": "code",
   "execution_count": 7,
   "metadata": {},
   "outputs": [
    {
     "data": {
      "text/plain": [
       "[23, 64, 53, 88]"
      ]
     },
     "execution_count": 7,
     "metadata": {},
     "output_type": "execute_result"
    }
   ],
   "source": [
    "numero_mayor()"
   ]
  },
  {
   "cell_type": "code",
   "execution_count": null,
   "metadata": {},
   "outputs": [],
   "source": [
    "#El objetivo de este ejercicio es convertir un string en un nuevo string en el que cada carácter \n",
    "# del nuevo string es \"(\" si ese carácter aparece sólo una vez en el string original, o \")\" \n",
    "# si ese carácter aparece más de una vez en el string. \n",
    "# Nuestro código no tiene que ser case sensitive, es decir, \n",
    "# si hay una letra en mayúscula y en minúscula cuenta como dos apariciones."
   ]
  },
  {
   "cell_type": "code",
   "execution_count": null,
   "metadata": {},
   "outputs": [],
   "source": [
    "Probad la función para los siguientes strings \n",
    "\n",
    "\"din\"      =>  \"(((\"\n",
    "\"recede\"   =>  \"()()()\"\n",
    "\"Success\"  =>  \")())())\"\n",
    "\"(( @\"     =>  \"))((\" \n",
    "\"Ocvl@GamFLAFkixkS\" => \"((()(()()))))(()(\""
   ]
  },
  {
   "cell_type": "code",
   "execution_count": 13,
   "metadata": {},
   "outputs": [
    {
     "data": {
      "text/plain": [
       "'recede'"
      ]
     },
     "execution_count": 13,
     "metadata": {},
     "output_type": "execute_result"
    }
   ],
   "source": [
    "palabra=\"Recede\"\n",
    "palabra= palabra.lower()\n",
    "palabra"
   ]
  },
  {
   "cell_type": "code",
   "execution_count": 14,
   "metadata": {},
   "outputs": [],
   "source": [
    "nuevo=\"\"\n",
    "\n",
    "for i in palabra:\n",
    "    if palabra.count(i)==1:\n",
    "        nuevo+=\"(\"\n",
    "    else:\n",
    "       nuevo+= \")\""
   ]
  },
  {
   "cell_type": "code",
   "execution_count": 15,
   "metadata": {},
   "outputs": [
    {
     "data": {
      "text/plain": [
       "'()()()'"
      ]
     },
     "execution_count": 15,
     "metadata": {},
     "output_type": "execute_result"
    }
   ],
   "source": [
    "nuevo"
   ]
  },
  {
   "cell_type": "code",
   "execution_count": null,
   "metadata": {},
   "outputs": [],
   "source": []
  },
  {
   "cell_type": "code",
   "execution_count": 3,
   "metadata": {},
   "outputs": [],
   "source": [
    "def repetidas(letra):\n",
    "    lista_letra= letra\n",
    "    for l in letra:\n",
    "        if l in letra :\n",
    "            return (\"(\")\n",
    "        \n",
    "    "
   ]
  },
  {
   "cell_type": "code",
   "execution_count": 14,
   "metadata": {},
   "outputs": [],
   "source": [
    "def repetidas(palabra):\n",
    "    if palabra in palabra :\n",
    "        resultado= len(palabra)\n",
    "        return (\"(\"*resultado)\n",
    "    elif palabra in palabra:\n",
    "        mensaje= palabra.replace(palabra,\")\")\n",
    "        return mensaje\n",
    "    \n",
    "        "
   ]
  },
  {
   "cell_type": "code",
   "execution_count": 16,
   "metadata": {},
   "outputs": [
    {
     "data": {
      "text/plain": [
       "'(((((('"
      ]
     },
     "execution_count": 16,
     "metadata": {},
     "output_type": "execute_result"
    }
   ],
   "source": [
    "repetidas(\"recede\")"
   ]
  },
  {
   "cell_type": "code",
   "execution_count": 59,
   "metadata": {},
   "outputs": [],
   "source": [
    "def repetidas(palabra):\n",
    "    for l in palabra:\n",
    "    \n",
    "        resultado= len(palabra)\n",
    "        return (\"(\"*resultado)\n",
    "       "
   ]
  }
 ],
 "metadata": {
  "kernelspec": {
   "display_name": "Python 3.8.9 64-bit",
   "language": "python",
   "name": "python3"
  },
  "language_info": {
   "codemirror_mode": {
    "name": "ipython",
    "version": 3
   },
   "file_extension": ".py",
   "mimetype": "text/x-python",
   "name": "python",
   "nbconvert_exporter": "python",
   "pygments_lexer": "ipython3",
   "version": "3.8.9"
  },
  "orig_nbformat": 4,
  "vscode": {
   "interpreter": {
    "hash": "31f2aee4e71d21fbe5cf8b01ff0e069b9275f58929596ceb00d14d90e3e16cd6"
   }
  }
 },
 "nbformat": 4,
 "nbformat_minor": 2
}
