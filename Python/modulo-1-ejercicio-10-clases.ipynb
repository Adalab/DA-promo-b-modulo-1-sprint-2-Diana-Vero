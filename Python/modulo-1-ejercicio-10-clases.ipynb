{
 "cells": [
  {
   "cell_type": "code",
   "execution_count": 37,
   "metadata": {},
   "outputs": [],
   "source": [
    "class Empleados:\n",
    "    def __init__(self, nombre, apellido, edad, posicion_en_empresa, año_entrada, dias_total_vacaciones, herramientas_trabajo):\n",
    "        self.nombre=nombre\n",
    "        self.apellido=apellido\n",
    "        self.edad=edad\n",
    "        self.posicion_en_empresa=posicion_en_empresa\n",
    "        self.año_entrada=año_entrada\n",
    "        self.dias_total_vacaciones=dias_total_vacaciones\n",
    "        self.herramientas_trabajo= [herramientas_trabajo]\n",
    "    def descripcion(self):\n",
    "        return f\"Él/ella, es {self.nombre}{self.apellido}, es Data Analyst, quien lleva con nostros en la empresa desde {self.año_entrada}. Además este año le quedan {self.dias_total_vacaciones} dias de vacaciones\"\n",
    "    def calculo_vacaciones(self):\n",
    "        vacaciones_input=int(input(\"Cuántos días te has ido de vacaciones este año\"))\n",
    "        input_deseo_vacaciones=int(input(\"¿Cuántos días te quieres ir\"))\n",
    "        dias_total_vacaciones=self.dias_total_vacaciones\n",
    "        if dias_total_vacaciones - vacaciones_input == 0:\n",
    "            return \"Ya no te quedan vacaciones\"\n",
    "        elif (dias_total_vacaciones - vacaciones_input) > input_deseo_vacaciones :\n",
    "            return \"No te quedan tantos días de vacaciones para poder irte\"\n",
    "        else:\n",
    "            return f\"Te quedan {dias_total_vacaciones - vacaciones_input} días de vacaciones\"\n",
    "\n",
    "       "
   ]
  },
  {
   "cell_type": "code",
   "execution_count": 38,
   "metadata": {},
   "outputs": [],
   "source": [
    "Diana=Empleados(\"Diana\",\" Romero\",27,\"Data Analyst\",2000, 30, [\"office\", \"python\"])"
   ]
  },
  {
   "cell_type": "code",
   "execution_count": 39,
   "metadata": {},
   "outputs": [
    {
     "data": {
      "text/plain": [
       "'Él/ella, es Diana Romero, es Data Analyst, quien lleva con nostros en la empresa desde 2000. Además este año le quedan 30 dias de vacaciones'"
      ]
     },
     "execution_count": 39,
     "metadata": {},
     "output_type": "execute_result"
    }
   ],
   "source": [
    "Diana.descripcion()"
   ]
  },
  {
   "cell_type": "code",
   "execution_count": 40,
   "metadata": {},
   "outputs": [
    {
     "data": {
      "text/plain": [
       "'Te quedan 18 días de vacaciones'"
      ]
     },
     "execution_count": 40,
     "metadata": {},
     "output_type": "execute_result"
    }
   ],
   "source": [
    "Diana.calculo_vacaciones()"
   ]
  },
  {
   "cell_type": "code",
   "execution_count": 41,
   "metadata": {},
   "outputs": [],
   "source": [
    "# Método cambiando_posicion:\n",
    "    # Iteraremos por la lista de herramientas que usa el empleado:\n",
    "        # Si el empleado usa \"Python\" devolveremos un mensaje de bien hecho!\n",
    "        # Si el empleado usa \"Excel\" le recomendaremos amigablemente que deje excel y empiece a usar Excel"
   ]
  }
 ],
 "metadata": {
  "kernelspec": {
   "display_name": "Python 3.9.7 ('base')",
   "language": "python",
   "name": "python3"
  },
  "language_info": {
   "codemirror_mode": {
    "name": "ipython",
    "version": 3
   },
   "file_extension": ".py",
   "mimetype": "text/x-python",
   "name": "python",
   "nbconvert_exporter": "python",
   "pygments_lexer": "ipython3",
   "version": "3.9.7"
  },
  "orig_nbformat": 4,
  "vscode": {
   "interpreter": {
    "hash": "7ad202eda4b463b15866ae6aadf94c3d2752d74520fedda13d68ef6e8aba5314"
   }
  }
 },
 "nbformat": 4,
 "nbformat_minor": 2
}
